{
 "cells": [
  {
   "cell_type": "markdown",
   "metadata": {},
   "source": [
    "# Zuber Ride Sharing Data Analysis"
   ]
  },
  {
   "cell_type": "markdown",
   "metadata": {},
   "source": [
    "## Introduction "
   ]
  },
  {
   "cell_type": "markdown",
   "metadata": {},
   "source": [
    "While working as an analyst for Zuber, a new ride-sharing company that is launching in Chicago. Our task is to find patterns in the available information to understand passenger preferences and the impact of external factors on rides.\n"
   ]
  },
  {
   "cell_type": "markdown",
   "metadata": {},
   "source": [
    "### Objectives \n",
    "\n",
    "1. Analyze the number of rides for each taxi company for specific dates.\n",
    "2. Analyze the number of rides for companies containing specific keywords.\n",
    "3. Analyze the number of rides for specific companies compared to others.\n",
    "4. Test a hypothesis about the impact of weather on ride duration."
   ]
  },
  {
   "cell_type": "markdown",
   "metadata": {},
   "source": [
    "## Import Necessary Libraries "
   ]
  },
  {
   "cell_type": "code",
   "execution_count": 1,
   "metadata": {},
   "outputs": [],
   "source": [
    "import pandas as pd\n",
    "import matplotlib.pyplot as plt\n",
    "from scipy import stats as st"
   ]
  },
  {
   "cell_type": "markdown",
   "metadata": {},
   "source": [
    "## Load Data "
   ]
  },
  {
   "cell_type": "code",
   "execution_count": 2,
   "metadata": {},
   "outputs": [],
   "source": [
    "project_sql_result_01 = pd.read_csv('/datasets/project_sql_result_01.csv')\n",
    "project_sql_result_04 = pd.read_csv('/datasets/project_sql_result_04.csv')\n",
    "project_sql_result_07 = pd.read_csv('/datasets/project_sql_result_07.csv')\n"
   ]
  },
  {
   "cell_type": "markdown",
   "metadata": {},
   "source": [
    "- Loading all cvs files from SQL results"
   ]
  },
  {
   "cell_type": "code",
   "execution_count": 3,
   "metadata": {},
   "outputs": [
    {
     "data": {
      "text/plain": [
       "(                      company_name  trips_amount\n",
       " 0                        Flash Cab         19558\n",
       " 1        Taxi Affiliation Services         11422\n",
       " 2                Medallion Leasing         10367\n",
       " 3                       Yellow Cab          9888\n",
       " 4  Taxi Affiliation Service Yellow          9299,\n",
       "   dropoff_location_name  average_trips\n",
       " 0                  Loop   10727.466667\n",
       " 1           River North    9523.666667\n",
       " 2         Streeterville    6664.666667\n",
       " 3             West Loop    5163.666667\n",
       " 4                O'Hare    2546.900000,\n",
       "               start_ts weather_conditions  duration_seconds\n",
       " 0  2017-11-25 16:00:00               Good            2410.0\n",
       " 1  2017-11-25 14:00:00               Good            1920.0\n",
       " 2  2017-11-25 12:00:00               Good            1543.0\n",
       " 3  2017-11-04 10:00:00               Good            2512.0\n",
       " 4  2017-11-11 07:00:00               Good            1440.0)"
      ]
     },
     "execution_count": 3,
     "metadata": {},
     "output_type": "execute_result"
    }
   ],
   "source": [
    "# Display the first few rows of each dataframe\n",
    "project_sql_result_01.head(), project_sql_result_04.head(), project_sql_result_07.head()"
   ]
  },
  {
   "cell_type": "markdown",
   "metadata": {},
   "source": [
    "### Prepare Data "
   ]
  },
  {
   "cell_type": "code",
   "execution_count": 4,
   "metadata": {},
   "outputs": [
    {
     "name": "stdout",
     "output_type": "stream",
     "text": [
      "<class 'pandas.core.frame.DataFrame'>\n",
      "RangeIndex: 64 entries, 0 to 63\n",
      "Data columns (total 2 columns):\n",
      " #   Column        Non-Null Count  Dtype \n",
      "---  ------        --------------  ----- \n",
      " 0   company_name  64 non-null     object\n",
      " 1   trips_amount  64 non-null     int64 \n",
      "dtypes: int64(1), object(1)\n",
      "memory usage: 1.1+ KB\n",
      "None\n",
      "<class 'pandas.core.frame.DataFrame'>\n",
      "RangeIndex: 94 entries, 0 to 93\n",
      "Data columns (total 2 columns):\n",
      " #   Column                 Non-Null Count  Dtype  \n",
      "---  ------                 --------------  -----  \n",
      " 0   dropoff_location_name  94 non-null     object \n",
      " 1   average_trips          94 non-null     float64\n",
      "dtypes: float64(1), object(1)\n",
      "memory usage: 1.6+ KB\n",
      "None\n",
      "<class 'pandas.core.frame.DataFrame'>\n",
      "RangeIndex: 1068 entries, 0 to 1067\n",
      "Data columns (total 3 columns):\n",
      " #   Column              Non-Null Count  Dtype  \n",
      "---  ------              --------------  -----  \n",
      " 0   start_ts            1068 non-null   object \n",
      " 1   weather_conditions  1068 non-null   object \n",
      " 2   duration_seconds    1068 non-null   float64\n",
      "dtypes: float64(1), object(2)\n",
      "memory usage: 25.2+ KB\n",
      "None\n"
     ]
    }
   ],
   "source": [
    "# Display basic information and data types\n",
    "print(project_sql_result_01.info())\n",
    "print(project_sql_result_04.info())\n",
    "print(project_sql_result_07.info())"
   ]
  },
  {
   "cell_type": "markdown",
   "metadata": {},
   "source": [
    "- Dataframe `project_sql_result_01` contains 2 columns, 64 rows, and no missing values. Which includes the following data:\n",
    "    - `company_name`: taxi company name\n",
    "    - `trips_amount`: the number of rides for each taxi company on November 15-16, 2017.\n",
    "\n",
    "\n",
    "- Dataframe `project_sql_result_04` contains 2 columns, 94 rows and no missing values. Which includes the following data:\n",
    "\n",
    "    - `dropoff_location_name`: Chicago neighborhoods where rides ended\n",
    "\n",
    "    - `average_trips`: the average number of rides that ended in each neighborhood in November 2017.\n",
    "\n",
    "\n",
    "- Dataframe `project_sql_result_07` contains 3 columns, 1068 rows, and no missing values. Which includes data on rides from the Loop to O'Hare International Airport. These are the table's field values:\n",
    "\n",
    "    - `start_ts`:pickup date and time\n",
    "    - `weather_conditions`: weather conditions at the moment the ride started\n",
    "    - `duration_seconds`: ride duration in seconds"
   ]
  },
  {
   "cell_type": "code",
   "execution_count": 5,
   "metadata": {},
   "outputs": [
    {
     "data": {
      "text/plain": [
       "(0, 0, 197)"
      ]
     },
     "execution_count": 5,
     "metadata": {},
     "output_type": "execute_result"
    }
   ],
   "source": [
    "#check for duplicates\n",
    "\n",
    "project_sql_result_01.duplicated().sum(), project_sql_result_04.duplicated().sum(), project_sql_result_07.duplicated().sum()"
   ]
  },
  {
   "cell_type": "markdown",
   "metadata": {},
   "source": [
    "While checking for duplicates we discover `project_sql_result_07` is the only dataframe containing duplicates. \n",
    "    \n",
    "   - There are 197 duplicates in the `project_sql_result_07`dataframe "
   ]
  },
  {
   "cell_type": "markdown",
   "metadata": {},
   "source": [
    "We will make the assumption that there was not 197 instances in which customers started and ended rides at the same exact time  to the same location and drop the duplicated values."
   ]
  },
  {
   "cell_type": "code",
   "execution_count": 6,
   "metadata": {
    "scrolled": true
   },
   "outputs": [
    {
     "data": {
      "text/plain": [
       "0"
      ]
     },
     "execution_count": 6,
     "metadata": {},
     "output_type": "execute_result"
    }
   ],
   "source": [
    "#drop duplicates\n",
    "project_sql_result_07=project_sql_result_07.drop_duplicates()\n",
    "\n",
    "project_sql_result_07.duplicated().sum()\n"
   ]
  },
  {
   "cell_type": "markdown",
   "metadata": {},
   "source": [
    "## Exploratory Data Analysis"
   ]
  },
  {
   "cell_type": "markdown",
   "metadata": {},
   "source": [
    "### Top 10 Neighborhoods by Drop-off"
   ]
  },
  {
   "cell_type": "markdown",
   "metadata": {},
   "source": [
    "Now we will use the `porject_sql_result_04` dataframe to identify the top 10 neighborhoods in terms of drop off."
   ]
  },
  {
   "cell_type": "code",
   "execution_count": 7,
   "metadata": {},
   "outputs": [
    {
     "data": {
      "text/html": [
       "<div>\n",
       "<style scoped>\n",
       "    .dataframe tbody tr th:only-of-type {\n",
       "        vertical-align: middle;\n",
       "    }\n",
       "\n",
       "    .dataframe tbody tr th {\n",
       "        vertical-align: top;\n",
       "    }\n",
       "\n",
       "    .dataframe thead th {\n",
       "        text-align: right;\n",
       "    }\n",
       "</style>\n",
       "<table border=\"1\" class=\"dataframe\">\n",
       "  <thead>\n",
       "    <tr style=\"text-align: right;\">\n",
       "      <th></th>\n",
       "      <th>dropoff_location_name</th>\n",
       "      <th>average_trips</th>\n",
       "    </tr>\n",
       "  </thead>\n",
       "  <tbody>\n",
       "    <tr>\n",
       "      <th>0</th>\n",
       "      <td>Loop</td>\n",
       "      <td>10727.466667</td>\n",
       "    </tr>\n",
       "    <tr>\n",
       "      <th>1</th>\n",
       "      <td>River North</td>\n",
       "      <td>9523.666667</td>\n",
       "    </tr>\n",
       "    <tr>\n",
       "      <th>2</th>\n",
       "      <td>Streeterville</td>\n",
       "      <td>6664.666667</td>\n",
       "    </tr>\n",
       "    <tr>\n",
       "      <th>3</th>\n",
       "      <td>West Loop</td>\n",
       "      <td>5163.666667</td>\n",
       "    </tr>\n",
       "    <tr>\n",
       "      <th>4</th>\n",
       "      <td>O'Hare</td>\n",
       "      <td>2546.900000</td>\n",
       "    </tr>\n",
       "    <tr>\n",
       "      <th>5</th>\n",
       "      <td>Lake View</td>\n",
       "      <td>2420.966667</td>\n",
       "    </tr>\n",
       "    <tr>\n",
       "      <th>6</th>\n",
       "      <td>Grant Park</td>\n",
       "      <td>2068.533333</td>\n",
       "    </tr>\n",
       "    <tr>\n",
       "      <th>7</th>\n",
       "      <td>Museum Campus</td>\n",
       "      <td>1510.000000</td>\n",
       "    </tr>\n",
       "    <tr>\n",
       "      <th>8</th>\n",
       "      <td>Gold Coast</td>\n",
       "      <td>1364.233333</td>\n",
       "    </tr>\n",
       "    <tr>\n",
       "      <th>9</th>\n",
       "      <td>Sheffield &amp; DePaul</td>\n",
       "      <td>1259.766667</td>\n",
       "    </tr>\n",
       "  </tbody>\n",
       "</table>\n",
       "</div>"
      ],
      "text/plain": [
       "  dropoff_location_name  average_trips\n",
       "0                  Loop   10727.466667\n",
       "1           River North    9523.666667\n",
       "2         Streeterville    6664.666667\n",
       "3             West Loop    5163.666667\n",
       "4                O'Hare    2546.900000\n",
       "5             Lake View    2420.966667\n",
       "6            Grant Park    2068.533333\n",
       "7         Museum Campus    1510.000000\n",
       "8            Gold Coast    1364.233333\n",
       "9    Sheffield & DePaul    1259.766667"
      ]
     },
     "execution_count": 7,
     "metadata": {},
     "output_type": "execute_result"
    }
   ],
   "source": [
    "#identifying top 10 neighborhoodsin by avg trips\n",
    "top_10_neighborhoods=project_sql_result_04.nlargest(10, 'average_trips')\n",
    "top_10_neighborhoods"
   ]
  },
  {
   "cell_type": "markdown",
   "metadata": {},
   "source": [
    "This list shows us that there is a large range of average number of trips between the top cities."
   ]
  },
  {
   "cell_type": "code",
   "execution_count": 8,
   "metadata": {},
   "outputs": [
    {
     "data": {
      "image/png": "[encoded data removed]",
      "text/plain": [
       "<Figure size 1200x600 with 1 Axes>"
      ]
     },
     "metadata": {},
     "output_type": "display_data"
    }
   ],
   "source": [
    "# Plot the top 10 neighborhoods by number of drop-offs\n",
    "plt.figure(figsize=(12, 6))\n",
    "plt.barh(top_10_neighborhoods['dropoff_location_name'], top_10_neighborhoods['average_trips'], color='green')\n",
    "plt.xlabel('Average Number of Drop-offs')\n",
    "plt.ylabel('Neighborhood')\n",
    "plt.title('Top 10 Neighborhoods by Average Number of Drop-offs (November 2017)')\n",
    "plt.gca().invert_yaxis()\n",
    "plt.show()"
   ]
  },
  {
   "cell_type": "markdown",
   "metadata": {},
   "source": [
    "The graph shows the top 10 neighborhoods by the average number of drop-offs in November 2017. This helps us identify the most popular destinations within the city during this month. The neigborhood with the most average drop offs is the Loop neighboorhood. "
   ]
  },
  {
   "cell_type": "markdown",
   "metadata": {},
   "source": [
    "### Taxi Company vs Number of Rides"
   ]
  },
  {
   "cell_type": "code",
   "execution_count": 9,
   "metadata": {},
   "outputs": [
    {
     "data": {
      "image/png": "[encoded data removed]",
      "text/plain": [
       "<Figure size 1200x600 with 1 Axes>"
      ]
     },
     "metadata": {},
     "output_type": "display_data"
    }
   ],
   "source": [
    "# Sort the data by 'trips_amount' and get the top 20 companies\n",
    "sorted_data = project_sql_result_01.sort_values(by='trips_amount', ascending=False).head(20)\n",
    "\n",
    "# Plot the number of rides for each taxi company\n",
    "plt.figure(figsize=(12, 6))\n",
    "plt.barh(sorted_data['company_name'], sorted_data['trips_amount'], color='blue')\n",
    "plt.xlabel('Number of Rides')\n",
    "plt.ylabel('Taxi Company')\n",
    "plt.title('Number of Rides for Top 20 Taxi Companies (November 15-16, 2017)')\n",
    "plt.gca().invert_yaxis()\n",
    "plt.show()"
   ]
  },
  {
   "cell_type": "markdown",
   "metadata": {},
   "source": [
    "The graph shows the number of rides for the top 20 taxi companies on November 15-16, 2017. We can see which companies were the most popular during this period. Flash cab was the number one choice during this period with nearly 20,000 rides while the second closest company, Taxi Affiliation Services, had around 12,500 rides."
   ]
  },
  {
   "cell_type": "markdown",
   "metadata": {},
   "source": [
    "## Testing Hypotheses"
   ]
  },
  {
   "cell_type": "markdown",
   "metadata": {},
   "source": [
    "### Hypothesis 1\n",
    "- Null Hypothesis (H0): The average duration of rides from the Loop to O'Hare International Airport does not change on rainy Saturdays.\n",
    "    - This hypothesis assumes that weather conditions (rainy vs. other Saturdays) do not impact the ride duration. Essentially, it suggests that any observed differences in ride duration are due to random chance.\n",
    "- Alternative Hypothesis (H1): The average duration of rides from the Loop to O'Hare International Airport changes on rainy Saturdays.\n",
    "    - This hypothesis assumes that weather conditions (rainy Saturdays) do have an impact on the ride duration, indicating that the average duration is different when it rains.\n",
    "\n",
    "Significance Level:\n",
    "- We will set the significance level (alpha) at 0.05."
   ]
  },
  {
   "cell_type": "code",
   "execution_count": 10,
   "metadata": {
    "scrolled": true
   },
   "outputs": [
    {
     "name": "stdout",
     "output_type": "stream",
     "text": [
      "t-statistic: 5.427957689754561\n",
      "p-value: 7.397770692813658e-08\n"
     ]
    }
   ],
   "source": [
    "# Separate data into two groups: rainy Saturdays and other Saturdays\n",
    "rainy_saturdays = project_sql_result_07[project_sql_result_07['weather_conditions'] == 'Bad']\n",
    "other_saturdays = project_sql_result_07[project_sql_result_07['weather_conditions'] == 'Good']\n",
    "\n",
    "# Extract durations\n",
    "rainy_durations = rainy_saturdays['duration_seconds']\n",
    "other_durations = other_saturdays['duration_seconds']\n",
    "\n",
    "# Perform t-test\n",
    "t_stat, p_value = st.ttest_ind(rainy_durations, other_durations)\n",
    "\n",
    "# Display results\n",
    "print('t-statistic:', t_stat)\n",
    "print('p-value:', p_value)\n"
   ]
  },
  {
   "cell_type": "markdown",
   "metadata": {},
   "source": [
    "The p-value is extremely small (7.397770692813658e-08), which is much less than the significance level of 0.05.\n",
    "\n",
    "Since the p-value is less than the significance level, we reject the null hypothesis. This means there is statistically significant evidence to suggest that the average duration of rides from the Loop to O'Hare International Airport changes on rainy Saturdays.\n",
    "\n",
    "This finding can be used to inform operational decisions, such as adjusting schedules or informing passengers about potential delays during rainy weather conditions."
   ]
  },
  {
   "cell_type": "markdown",
   "metadata": {},
   "source": [
    "# Conclusion "
   ]
  },
  {
   "cell_type": "markdown",
   "metadata": {},
   "source": [
    "Through our analysis, we have identified key patterns in taxi rides in Chicago. We analyzed the number of rides for different taxi companies, identified the top neighborhoods for drop-offs, and tested a hypothesis about the impact of weather on ride duration.\n",
    "\n",
    "<b>Key Findings</b>\n",
    "- Flash Cab and Taxi Affiliation Services are among the most popular taxi companies.\n",
    "- The top neighborhoods for drop-offs include areas with high commercial and tourist activity.\n",
    "- The hypothesis test results provide insights into how weather conditions affect ride duration, which can help in planning and optimizing operations.\n",
    "\n",
    "These findings can help Zuber strategize their operations and marketing efforts effectively as they launch in Chicago."
   ]
  }
 ],
 "metadata": {
  "ExecuteTimeLog": [
   {
    "duration": 4536,
    "start_time": "2024-07-28T19:25:28.789Z"
   },
   {
    "duration": 27,
    "start_time": "2024-07-28T19:26:25.381Z"
   },
   {
    "duration": 20,
    "start_time": "2024-07-28T19:26:27.864Z"
   },
   {
    "duration": 18,
    "start_time": "2024-07-28T19:26:49.059Z"
   },
   {
    "duration": 29,
    "start_time": "2024-07-28T19:29:49.304Z"
   },
   {
    "duration": 531,
    "start_time": "2024-07-28T19:34:01.621Z"
   },
   {
    "duration": 36,
    "start_time": "2024-07-28T19:34:11.919Z"
   },
   {
    "duration": 8,
    "start_time": "2024-07-28T19:56:04.097Z"
   },
   {
    "duration": 9,
    "start_time": "2024-07-28T19:56:21.121Z"
   },
   {
    "duration": 11,
    "start_time": "2024-07-28T19:56:42.043Z"
   },
   {
    "duration": 17,
    "start_time": "2024-07-28T19:59:47.985Z"
   },
   {
    "duration": 26,
    "start_time": "2024-07-28T20:00:15.052Z"
   },
   {
    "duration": 15,
    "start_time": "2024-07-28T20:00:23.016Z"
   },
   {
    "duration": 25,
    "start_time": "2024-07-28T20:00:37.867Z"
   },
   {
    "duration": 27,
    "start_time": "2024-07-28T20:00:46.993Z"
   },
   {
    "duration": 10,
    "start_time": "2024-07-28T20:00:59.585Z"
   },
   {
    "duration": 448,
    "start_time": "2024-07-28T20:01:07.346Z"
   },
   {
    "duration": 10,
    "start_time": "2024-07-28T20:01:20.897Z"
   },
   {
    "duration": 10,
    "start_time": "2024-07-28T20:01:31.971Z"
   },
   {
    "duration": 26,
    "start_time": "2024-07-28T20:03:24.682Z"
   },
   {
    "duration": 19,
    "start_time": "2024-07-28T20:04:33.440Z"
   },
   {
    "duration": 24,
    "start_time": "2024-07-28T20:04:42.400Z"
   },
   {
    "duration": 24,
    "start_time": "2024-07-28T20:04:48.046Z"
   },
   {
    "duration": 5,
    "start_time": "2024-07-28T20:04:55.791Z"
   },
   {
    "duration": 17,
    "start_time": "2024-07-28T20:05:01.764Z"
   },
   {
    "duration": 17,
    "start_time": "2024-07-28T20:05:11.015Z"
   },
   {
    "duration": 18,
    "start_time": "2024-07-28T20:05:19.808Z"
   },
   {
    "duration": 21,
    "start_time": "2024-07-28T20:05:37.330Z"
   },
   {
    "duration": 11,
    "start_time": "2024-07-28T20:05:52.225Z"
   },
   {
    "duration": 14,
    "start_time": "2024-07-28T20:07:55.019Z"
   },
   {
    "duration": 18,
    "start_time": "2024-07-28T20:08:01.963Z"
   },
   {
    "duration": 19,
    "start_time": "2024-07-28T20:08:19.503Z"
   },
   {
    "duration": 18,
    "start_time": "2024-07-28T20:11:01.715Z"
   },
   {
    "duration": 19,
    "start_time": "2024-07-28T20:11:14.028Z"
   },
   {
    "duration": 15,
    "start_time": "2024-07-28T20:11:31.268Z"
   },
   {
    "duration": 7,
    "start_time": "2024-07-28T20:12:34.340Z"
   },
   {
    "duration": 14,
    "start_time": "2024-07-28T20:12:43.653Z"
   },
   {
    "duration": 24,
    "start_time": "2024-07-28T20:13:04.091Z"
   },
   {
    "duration": 14,
    "start_time": "2024-07-28T20:13:09.713Z"
   },
   {
    "duration": 24,
    "start_time": "2024-07-28T20:13:27.055Z"
   },
   {
    "duration": 14,
    "start_time": "2024-07-28T20:13:33.113Z"
   },
   {
    "duration": 12,
    "start_time": "2024-07-28T20:13:40.070Z"
   },
   {
    "duration": 18,
    "start_time": "2024-07-28T20:14:55.691Z"
   },
   {
    "duration": 15,
    "start_time": "2024-07-28T20:24:16.616Z"
   },
   {
    "duration": 10,
    "start_time": "2024-07-28T20:29:10.175Z"
   },
   {
    "duration": 12,
    "start_time": "2024-07-28T20:29:13.054Z"
   },
   {
    "duration": 28,
    "start_time": "2024-07-28T20:29:26.103Z"
   },
   {
    "duration": 344,
    "start_time": "2024-07-29T01:11:45.050Z"
   },
   {
    "duration": 4402,
    "start_time": "2024-07-29T01:11:54.221Z"
   },
   {
    "duration": 29,
    "start_time": "2024-07-29T01:11:58.627Z"
   },
   {
    "duration": 18,
    "start_time": "2024-07-29T01:11:58.659Z"
   },
   {
    "duration": 56,
    "start_time": "2024-07-29T01:11:58.681Z"
   },
   {
    "duration": 11,
    "start_time": "2024-07-29T01:11:58.739Z"
   },
   {
    "duration": 76,
    "start_time": "2024-07-29T01:12:04.901Z"
   },
   {
    "duration": 21,
    "start_time": "2024-07-29T01:12:50.545Z"
   },
   {
    "duration": 18,
    "start_time": "2024-07-29T01:13:00.977Z"
   },
   {
    "duration": 11,
    "start_time": "2024-07-29T01:13:51.914Z"
   },
   {
    "duration": 12,
    "start_time": "2024-07-29T01:14:04.965Z"
   },
   {
    "duration": 9,
    "start_time": "2024-07-29T01:15:11.203Z"
   },
   {
    "duration": 4,
    "start_time": "2024-07-29T01:15:17.343Z"
   },
   {
    "duration": 18,
    "start_time": "2024-07-29T01:15:17.352Z"
   },
   {
    "duration": 15,
    "start_time": "2024-07-29T01:15:17.375Z"
   },
   {
    "duration": 44,
    "start_time": "2024-07-29T01:15:17.393Z"
   },
   {
    "duration": 12,
    "start_time": "2024-07-29T01:15:17.440Z"
   },
   {
    "duration": 11,
    "start_time": "2024-07-29T01:15:17.455Z"
   },
   {
    "duration": 10,
    "start_time": "2024-07-29T01:15:24.329Z"
   },
   {
    "duration": 10,
    "start_time": "2024-07-29T01:15:36.399Z"
   },
   {
    "duration": 16,
    "start_time": "2024-07-29T01:15:43.354Z"
   },
   {
    "duration": 9,
    "start_time": "2024-07-29T01:15:59.660Z"
   },
   {
    "duration": 6,
    "start_time": "2024-07-29T01:16:11.996Z"
   },
   {
    "duration": 8,
    "start_time": "2024-07-29T01:16:26.544Z"
   },
   {
    "duration": 21,
    "start_time": "2024-07-29T01:16:42.437Z"
   },
   {
    "duration": 17,
    "start_time": "2024-07-29T01:16:50.137Z"
   },
   {
    "duration": 17,
    "start_time": "2024-07-29T01:20:53.861Z"
   },
   {
    "duration": 16,
    "start_time": "2024-07-29T01:21:08.898Z"
   },
   {
    "duration": 10,
    "start_time": "2024-07-29T01:21:35.778Z"
   },
   {
    "duration": 9,
    "start_time": "2024-07-29T01:21:39.648Z"
   },
   {
    "duration": 13,
    "start_time": "2024-07-29T01:21:45.099Z"
   },
   {
    "duration": 24,
    "start_time": "2024-07-29T01:22:05.658Z"
   },
   {
    "duration": 15,
    "start_time": "2024-07-29T01:22:18.537Z"
   },
   {
    "duration": 6,
    "start_time": "2024-07-29T01:23:56.339Z"
   },
   {
    "duration": 21,
    "start_time": "2024-07-29T01:24:10.198Z"
   },
   {
    "duration": 10,
    "start_time": "2024-07-29T01:25:01.435Z"
   },
   {
    "duration": 10,
    "start_time": "2024-07-29T01:26:40.880Z"
   },
   {
    "duration": 10,
    "start_time": "2024-07-29T01:31:01.890Z"
   },
   {
    "duration": 14,
    "start_time": "2024-07-29T01:31:14.141Z"
   },
   {
    "duration": 10,
    "start_time": "2024-07-29T01:31:22.665Z"
   },
   {
    "duration": 13,
    "start_time": "2024-07-29T01:40:10.305Z"
   },
   {
    "duration": 13,
    "start_time": "2024-07-29T01:40:23.531Z"
   },
   {
    "duration": 1861,
    "start_time": "2024-07-29T01:46:02.836Z"
   },
   {
    "duration": 42,
    "start_time": "2024-07-29T01:47:04.273Z"
   },
   {
    "duration": 1768,
    "start_time": "2024-07-29T01:47:22.839Z"
   },
   {
    "duration": 427,
    "start_time": "2024-07-29T01:50:29.462Z"
   },
   {
    "duration": 398,
    "start_time": "2024-07-29T01:51:28.918Z"
   },
   {
    "duration": 432,
    "start_time": "2024-07-29T01:51:39.447Z"
   },
   {
    "duration": 4,
    "start_time": "2024-07-29T01:53:14.677Z"
   },
   {
    "duration": 4,
    "start_time": "2024-07-29T01:53:17.648Z"
   },
   {
    "duration": 275,
    "start_time": "2024-07-29T01:53:29.975Z"
   },
   {
    "duration": 483,
    "start_time": "2024-07-29T02:21:52.458Z"
   },
   {
    "duration": 4,
    "start_time": "2024-07-29T02:21:55.051Z"
   },
   {
    "duration": 17,
    "start_time": "2024-07-29T02:21:55.060Z"
   },
   {
    "duration": 12,
    "start_time": "2024-07-29T02:21:55.084Z"
   },
   {
    "duration": 37,
    "start_time": "2024-07-29T02:21:55.102Z"
   },
   {
    "duration": 11,
    "start_time": "2024-07-29T02:21:55.147Z"
   },
   {
    "duration": 12,
    "start_time": "2024-07-29T02:21:55.161Z"
   },
   {
    "duration": 47,
    "start_time": "2024-07-29T02:21:55.177Z"
   },
   {
    "duration": 297,
    "start_time": "2024-07-29T02:21:55.228Z"
   },
   {
    "duration": 422,
    "start_time": "2024-07-29T02:21:55.528Z"
   },
   {
    "duration": 6,
    "start_time": "2024-07-29T02:25:43.936Z"
   },
   {
    "duration": 69,
    "start_time": "2024-07-29T02:26:53.155Z"
   },
   {
    "duration": 10,
    "start_time": "2024-07-29T02:27:26.908Z"
   },
   {
    "duration": 4724,
    "start_time": "2024-07-29T11:09:13.291Z"
   },
   {
    "duration": 30,
    "start_time": "2024-07-29T11:09:18.019Z"
   },
   {
    "duration": 16,
    "start_time": "2024-07-29T11:09:18.052Z"
   },
   {
    "duration": 31,
    "start_time": "2024-07-29T11:09:18.072Z"
   },
   {
    "duration": 10,
    "start_time": "2024-07-29T11:09:18.124Z"
   },
   {
    "duration": 11,
    "start_time": "2024-07-29T11:09:18.137Z"
   },
   {
    "duration": 15,
    "start_time": "2024-07-29T11:09:18.151Z"
   },
   {
    "duration": 330,
    "start_time": "2024-07-29T11:09:18.169Z"
   },
   {
    "duration": 437,
    "start_time": "2024-07-29T11:09:18.502Z"
   },
   {
    "duration": 9,
    "start_time": "2024-07-29T11:09:18.944Z"
   }
  ],
  "kernelspec": {
   "display_name": "Python 3 (ipykernel)",
   "language": "python",
   "name": "python3"
  },
  "language_info": {
   "codemirror_mode": {
    "name": "ipython",
    "version": 3
   },
   "file_extension": ".py",
   "mimetype": "text/x-python",
   "name": "python",
   "nbconvert_exporter": "python",
   "pygments_lexer": "ipython3",
   "version": "3.11.7"
  },
  "toc": {
   "base_numbering": 1,
   "nav_menu": {},
   "number_sections": true,
   "sideBar": true,
   "skip_h1_title": true,
   "title_cell": "Table of Contents",
   "title_sidebar": "Contents",
   "toc_cell": false,
   "toc_position": {},
   "toc_section_display": true,
   "toc_window_display": false
  }
 },
 "nbformat": 4,
 "nbformat_minor": 4
}
